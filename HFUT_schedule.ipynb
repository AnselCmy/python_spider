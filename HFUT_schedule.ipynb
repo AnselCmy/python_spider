{
 "cells": [
  {
   "cell_type": "code",
   "execution_count": 370,
   "metadata": {
    "collapsed": true,
    "deletable": true,
    "editable": true,
    "nbpresent": {
     "id": "49b49194-e48a-467f-95a8-637d72adb156"
    }
   },
   "outputs": [],
   "source": [
    "import requests\n",
    "import re\n",
    "from prettytable import PrettyTable\n",
    "from prettytable import ALL\n",
    "from selenium import webdriver\n",
    "from lxml import etree"
   ]
  },
  {
   "cell_type": "markdown",
   "metadata": {},
   "source": [
    "### Username and password here"
   ]
  },
  {
   "cell_type": "code",
   "execution_count": 377,
   "metadata": {
    "collapsed": true
   },
   "outputs": [],
   "source": [
    "USER = ''\n",
    "PASSWORD = ''"
   ]
  },
  {
   "cell_type": "markdown",
   "metadata": {
    "deletable": true,
    "editable": true,
    "nbpresent": {
     "id": "88d6f6b2-ed91-4782-a4d9-743b12f8c5ab"
    }
   },
   "source": [
    "### Use GET method to get this IP "
   ]
  },
  {
   "cell_type": "code",
   "execution_count": 356,
   "metadata": {
    "collapsed": false,
    "deletable": true,
    "editable": true,
    "nbpresent": {
     "id": "d620225d-7703-4a4c-bbcf-e0ecded96175"
    }
   },
   "outputs": [],
   "source": [
    "url = \"http://222.195.8.201/\"\n",
    "driver = webdriver.PhantomJS()\n",
    "driver.get(url)"
   ]
  },
  {
   "cell_type": "markdown",
   "metadata": {
    "deletable": true,
    "editable": true,
    "nbpresent": {
     "id": "742eb9fb-5322-4571-bafa-6fe861cafe6c"
    }
   },
   "source": [
    "### Find the input and fill the form"
   ]
  },
  {
   "cell_type": "code",
   "execution_count": 357,
   "metadata": {
    "collapsed": false,
    "deletable": true,
    "editable": true,
    "nbpresent": {
     "id": "6b26d207-459c-4116-84c6-368beed42306"
    }
   },
   "outputs": [],
   "source": [
    "user = driver.find_element_by_name(USER)\n",
    "password = driver.find_element_by_name(PASSWORD)"
   ]
  },
  {
   "cell_type": "code",
   "execution_count": 358,
   "metadata": {
    "collapsed": false,
    "deletable": true,
    "editable": true,
    "nbpresent": {
     "id": "71e63120-2e8c-4f24-9400-38c7d2be82aa"
    }
   },
   "outputs": [],
   "source": [
    "user.clear()\n",
    "password.clear()\n",
    "user.send_keys('2015216056')\n",
    "password.send_keys('wcd103038')\n",
    "driver.find_element_by_name(\"button\").click()"
   ]
  },
  {
   "cell_type": "markdown",
   "metadata": {
    "deletable": true,
    "editable": true,
    "nbpresent": {
     "id": "48295d82-34d3-4aa0-8876-aef6ebc7f720"
    }
   },
   "source": [
    "### Find the frame and switch"
   ]
  },
  {
   "cell_type": "code",
   "execution_count": 359,
   "metadata": {
    "collapsed": false,
    "deletable": true,
    "editable": true,
    "nbpresent": {
     "id": "871edbd3-b901-4242-a3ab-dc0f4d9c9210"
    }
   },
   "outputs": [],
   "source": [
    "frame_contents = driver.find_element_by_xpath(\"//frame[@name='contents']\")\n",
    "driver.switch_to.frame(frame_contents)"
   ]
  },
  {
   "cell_type": "code",
   "execution_count": 361,
   "metadata": {
    "collapsed": false,
    "deletable": true,
    "editable": true,
    "nbpresent": {
     "id": "e0e800e1-7d99-4976-b48d-61fe878bfdab"
    }
   },
   "outputs": [],
   "source": [
    "info_button = driver.find_element_by_xpath(\"//input[@value='课程信息']\")\n",
    "info_button.click()"
   ]
  },
  {
   "cell_type": "code",
   "execution_count": 362,
   "metadata": {
    "collapsed": false,
    "deletable": true,
    "editable": true,
    "nbpresent": {
     "id": "c5f6dd72-59af-422f-b63b-77385320c598"
    }
   },
   "outputs": [],
   "source": [
    "schedule_button = driver.find_element_by_xpath(\"//a[@href='../asp/grkb1.asp']\")\n",
    "schedule_button.click()"
   ]
  },
  {
   "cell_type": "code",
   "execution_count": 363,
   "metadata": {
    "collapsed": true,
    "deletable": true,
    "editable": true,
    "nbpresent": {
     "id": "b8b09a84-86a8-44b4-a4c4-efae2fca46b4"
    }
   },
   "outputs": [],
   "source": [
    "driver.switch_to.default_content()"
   ]
  },
  {
   "cell_type": "code",
   "execution_count": 364,
   "metadata": {
    "collapsed": false,
    "deletable": true,
    "editable": true,
    "nbpresent": {
     "id": "08d8f690-859b-4194-8981-31acb86fb1bc"
    }
   },
   "outputs": [],
   "source": [
    "frame_main = driver.find_element_by_xpath(\"//frame[@name='main']\")\n",
    "driver.switch_to.frame(frame_main)"
   ]
  },
  {
   "cell_type": "markdown",
   "metadata": {
    "deletable": true,
    "editable": true,
    "nbpresent": {
     "id": "c77a9133-b43a-4992-bb13-ff54637cbc3b"
    }
   },
   "source": [
    "### Print the table"
   ]
  },
  {
   "cell_type": "code",
   "execution_count": 376,
   "metadata": {
    "collapsed": false,
    "deletable": true,
    "editable": true,
    "nbpresent": {
     "id": "f1ad485a-e391-45ed-af76-58b8e269bfc6"
    },
    "scrolled": false,
    "slideshow": {
     "slide_type": "-"
    }
   },
   "outputs": [
    {
     "name": "stdout",
     "output_type": "stream",
     "text": [
      "+-----+----------------------+-----------------------------------------------+----------------------+-----------------------------------------------+------------------------------------------------+-----+-----+\n",
      "| Idx |         Mon          |                      Tue                      |         Wed          |                      Thu                      |                      Fri                       | Sat | Sun |\n",
      "+-----+----------------------+-----------------------------------------------+----------------------+-----------------------------------------------+------------------------------------------------+-----+-----+\n",
      "|  1  |                      |                                               |       电工技术       |                                               |                形势与政策（4）                 |     |     |\n",
      "|     |                      |                                               | 敬亭学堂101 (1-8周)  |                                               |              新安学堂215 (5-8周)               |     |     |\n",
      "|     |                      |                                               |      电子技术B       |                                               |                                                |     |     |\n",
      "|     |                      |                                               | 敬亭学堂101 (9-18周) |                                               |                                                |     |     |\n",
      "|     |                      |                                               |                      |                                               |                                                |     |     |\n",
      "+-----+----------------------+-----------------------------------------------+----------------------+-----------------------------------------------+------------------------------------------------+-----+-----+\n",
      "|  2  |                      |                                               |       电工技术       |                                               |                形势与政策（4）                 |     |     |\n",
      "|     |                      |                                               | 敬亭学堂101 (1-8周)  |                                               |              新安学堂215 (5-8周)               |     |     |\n",
      "|     |                      |                                               |      电子技术B       |                                               |                                                |     |     |\n",
      "|     |                      |                                               | 敬亭学堂101 (9-18周) |                                               |                                                |     |     |\n",
      "|     |                      |                                               |                      |                                               |                                                |     |     |\n",
      "+-----+----------------------+-----------------------------------------------+----------------------+-----------------------------------------------+------------------------------------------------+-----+-----+\n",
      "|  3  |       机械原理       | 毛泽东思想与中国特色社会主义理论体系概论（2） |      材料力学B       |                                               | 非英语专业本科毕业设计（论文）英文摘要写作指导 |     |     |\n",
      "|     | 敬亭学堂105 (1-14周) |             敬亭学堂118 (12-17周)             | 敬亭学堂401 (2-15周) |                                               |              敬亭学堂114 (3-14周)              |     |     |\n",
      "|     |                      |                                               |                      |                                               |                                                |     |     |\n",
      "+-----+----------------------+-----------------------------------------------+----------------------+-----------------------------------------------+------------------------------------------------+-----+-----+\n",
      "|  4  |       机械原理       | 毛泽东思想与中国特色社会主义理论体系概论（2） |      材料力学B       |                                               | 非英语专业本科毕业设计（论文）英文摘要写作指导 |     |     |\n",
      "|     | 敬亭学堂105 (1-14周) |             敬亭学堂118 (12-17周)             | 敬亭学堂401 (2-15周) |                                               |              敬亭学堂114 (3-14周)              |     |     |\n",
      "|     |                      |                                               |                      |                                               |                                                |     |     |\n",
      "+-----+----------------------+-----------------------------------------------+----------------------+-----------------------------------------------+------------------------------------------------+-----+-----+\n",
      "|  5  |      材料力学B       |                                               |                      | 毛泽东思想与中国特色社会主义理论体系概论（2） |                    电工技术                    |     |     |\n",
      "|     | 敬亭学堂301 (2-15周) |                                               |                      |             敬亭学堂118 (12-17周)             |              敬亭学堂101 (1-8周)               |     |     |\n",
      "|     |                      |                                               |                      |                                               |                   电子技术B                    |     |     |\n",
      "|     |                      |                                               |                      |                                               |              敬亭学堂101 (9-18周)              |     |     |\n",
      "|     |                      |                                               |                      |                                               |                                                |     |     |\n",
      "+-----+----------------------+-----------------------------------------------+----------------------+-----------------------------------------------+------------------------------------------------+-----+-----+\n",
      "|  6  |      材料力学B       |                                               |                      | 毛泽东思想与中国特色社会主义理论体系概论（2） |                    电工技术                    |     |     |\n",
      "|     | 敬亭学堂301 (2-15周) |                                               |                      |             敬亭学堂118 (12-17周)             |              敬亭学堂101 (1-8周)               |     |     |\n",
      "|     |                      |                                               |                      |                                               |                   电子技术B                    |     |     |\n",
      "|     |                      |                                               |                      |                                               |              敬亭学堂101 (9-18周)              |     |     |\n",
      "|     |                      |                                               |                      |                                               |                                                |     |     |\n",
      "+-----+----------------------+-----------------------------------------------+----------------------+-----------------------------------------------+------------------------------------------------+-----+-----+\n",
      "|  7  |       体育专项       |                                               |       机械原理       |                                               |                                                |     |     |\n",
      "|     |  风雨操场 (1-12周)   |                                               | 敬亭学堂105 (1-14周) |                                               |                                                |     |     |\n",
      "|     |                      |                                               |                      |                                               |                                                |     |     |\n",
      "+-----+----------------------+-----------------------------------------------+----------------------+-----------------------------------------------+------------------------------------------------+-----+-----+\n"
     ]
    }
   ],
   "source": [
    "timetable = PrettyTable(['Idx', 'Mon', 'Tue', 'Wed', 'Thu', 'Fri', 'Sat', 'Sun'])\n",
    "timetable.hrules = ALL\n",
    "pattern = re.compile(r'(.*)\\[(.*)\\]')\n",
    "for cnt in range(2, 9):\n",
    "    row = []\n",
    "    for dow in range(2, 9):\n",
    "        course = driver.find_element_by_xpath(\"//td[@valign='top']//tr[{}]/td[{}]\".format(cnt, dow))\n",
    "        course_str = ''\n",
    "        for c in course.text.split('/'):\n",
    "            if c == '':\n",
    "                break\n",
    "            name, time = pattern.match(c).groups()\n",
    "            course_str += name+'\\n'+time+'\\n'\n",
    "        row.append(course_str)\n",
    "    row.insert(0, str(cnt-1))\n",
    "    timetable.add_row(row)\n",
    "print(timetable)"
   ]
  },
  {
   "cell_type": "code",
   "execution_count": null,
   "metadata": {
    "collapsed": true
   },
   "outputs": [],
   "source": []
  }
 ],
 "metadata": {
  "anaconda-cloud": {},
  "kernelspec": {
   "display_name": "Python [conda root]",
   "language": "python",
   "name": "conda-root-py"
  },
  "language_info": {
   "codemirror_mode": {
    "name": "ipython",
    "version": 3
   },
   "file_extension": ".py",
   "mimetype": "text/x-python",
   "name": "python",
   "nbconvert_exporter": "python",
   "pygments_lexer": "ipython3",
   "version": "3.5.2"
  },
  "nbpresent": {
   "slides": {
    "567e0d1f-307f-4b7d-91d6-324ff481f427": {
     "id": "567e0d1f-307f-4b7d-91d6-324ff481f427",
     "prev": "e95fda8c-0f93-4e97-9d40-259c4cc04a7d",
     "regions": {}
    },
    "e95fda8c-0f93-4e97-9d40-259c4cc04a7d": {
     "id": "e95fda8c-0f93-4e97-9d40-259c4cc04a7d",
     "prev": null,
     "regions": {}
    }
   },
   "themes": {}
  }
 },
 "nbformat": 4,
 "nbformat_minor": 1
}
